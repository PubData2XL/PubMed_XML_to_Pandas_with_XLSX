{
 "cells": [
  {
   "attachments": {},
   "cell_type": "markdown",
   "id": "4ae86a95",
   "metadata": {},
   "source": [
    "## Dependencies"
   ]
  },
  {
   "cell_type": "code",
   "execution_count": null,
   "id": "081dd19c",
   "metadata": {},
   "outputs": [],
   "source": [
    "# Install a pip package in the current Jupyter kernel\n",
    "#!python -m pip install --upgrade pip pandas jupyterthemes biopython lxml\n",
    "#!jt -t monokai -fs 12 -cellw 80% -T -N -kl\n",
    "import re\n",
    "import datetime\n",
    "import pandas as pd\n"
   ]
  },
  {
   "cell_type": "code",
   "execution_count": null,
   "id": "45095d5b",
   "metadata": {},
   "outputs": [],
   "source": [
    "def parse_pub_date(pub_date):\n",
    "    if not pub_date:\n",
    "        pub_date = \"\"\n",
    "    begin = \"^\"\n",
    "    end = \"$\"\n",
    "    YYYY = \"\\d{4}\"\n",
    "    MM_DD =\"\\d{2}\"\n",
    "    MM_ABRV = \"\\D+\"\n",
    "    YYYY_MM = begin + YYYY + \"-{1}\" + MM_DD + end\n",
    "    YYYY_ABRV = begin + YYYY + \"-{1}\" + MM_ABRV + end\n",
    "    YYYY_ABRV_DD = begin + YYYY + \"-{1}\" + MM_ABRV + \"-{1}\" + MM_DD + end\n",
    "    months = {\"[Jj][Aa][Nn].*\": \"01\", \"[Ff][Ee][Bb].*\": \"02\", \"[Mm][Aa][Rr].*\": \"03\",\n",
    "              \"[Aa][Pp][Rr].*\": \"04\", \"[Mm][Aa][Yy].*\": \"05\", \"[Jj][Uu][Nn].*\": \"06\",\n",
    "              \"[Jj][Uu][Ll].*\": \"07\", \"[Aa][Uu][Gg].*\": \"08\", \"[Ss][Ee][Pp].*\": \"09\",\n",
    "              \"[Oo][Cc][Tt].*\": \"10\", \"[Nn][Oo][Vv].*\": \"11\", \"[Dd][Ee][Cc].*\": \"12\",\n",
    "              \"[Ww][Ii][Nn].*\": \"12\", \"[Ss][Pp][Rr].*\": \"03\", \"[Ss][Uu][Mm].*\": \"06\",\n",
    "              \"[Aa][Uu][Tt].*\": \"09\", \"[Ff][Aa][Ll].*\": \"09\"}\n",
    "    MM_DD_YYYY = begin + \"\\d{1,2}\\/{1}\\d{1,2}\\/{1}\\d{4}\" + end\n",
    "    ORDINAL_DATE = begin + \"\\d{5}\" + end\n",
    "    if re.search(begin + YYYY + end, pub_date): #2023\n",
    "        pub_date = pub_date + \"-01-01\"\n",
    "    elif re.search(YYYY_MM, pub_date): #2023-06\n",
    "        pub_date = pub_date + \"-01\"\n",
    "    elif re.search(YYYY_ABRV, pub_date): #2023-Jun or 2023-Jun-23\n",
    "        for month_re, month_number in months.items():\n",
    "            YYYYMM_ABRV = begin + YYYY + \"-{1}\" + month_re + end\n",
    "            if re.search(YYYYMM_ABRV, pub_date):\n",
    "                pub_date = pub_date[:4] + \"-\" + month_number + \"-01\"\n",
    "    elif re.search(YYYY_ABRV_DD, pub_date):\n",
    "        for month_re, month_number in months.items():\n",
    "            YYYYMM_ABRVDD = begin + YYYY + \"-{1}\" + month_re + \"-{1}\" + MM_DD + end\n",
    "            if re.search(YYYYMM_ABRVDD, pub_date):\n",
    "                pub_date = pub_date[:4] + \"-\" + month_number + \"-\" + pub_date[-2:]\n",
    "    elif re.search(MM_DD_YYYY, pub_date): #\n",
    "        pub_date = pub_date.split(\"/\")\n",
    "        pub_date = pub_date[2] + \"-\" + pub_date[0] + \"-\" + pub_date[1]\n",
    "    elif re.search(ORDINAL_DATE, pub_date):\n",
    "        print(\"Ordinal date: \" + pub_date)\n",
    "        offset = datetime.datetime(1900, 1, 1)\n",
    "        pub_date = str((offset + datetime.timedelta(days=int(pub_date))).date())\n",
    "        #pub_date = str(datetime.date.fromordinal(int(pub_date)))\n",
    "        print(\"Ordinal date: \" + pub_date)\n",
    "    \n",
    "    return pub_date"
   ]
  },
  {
   "cell_type": "code",
   "execution_count": null,
   "id": "02c8df7a",
   "metadata": {},
   "outputs": [
    {
     "name": "stdout",
     "output_type": "stream",
     "text": [
      "Wall time: 1.62 s\n"
     ]
    }
   ],
   "source": [
    "%%time\n",
    "xml_file =\"pubmed_data.xml\"\n",
    "xslt_file = \"PubMed_XML_to_Pandas_Transformer.xsl\"\n",
    "#dateparse = lambda x: datetime.strptime(x, '%Y-%m-%d') #Perhaps for the future\n",
    "df = pd.read_xml(xml_file, xpath=\"/Citation\", stylesheet=xslt_file, dtype=str)\n",
    "date_columns = df.filter(like='Date').columns.to_list()\n",
    "for column in date_columns:\n",
    "    df[column] = pd.to_datetime(df[column].apply(lambda x: parse_pub_date(x))).dt.strftime('%Y-%m-%d')\n",
    "df = df.fillna(value=\"\")\n",
    "#df['PMID'] = df['PMID'].astype(int)\n",
    "df.to_excel(\"Transformed_PubMed_Data.xlsx\", index=False, header=True)"
   ]
  },
  {
   "cell_type": "code",
   "execution_count": null,
   "id": "6da259f9",
   "metadata": {},
   "outputs": [],
   "source": []
  }
 ],
 "metadata": {
  "kernelspec": {
   "display_name": "Python 3 (ipykernel)",
   "language": "python",
   "name": "python3"
  },
  "language_info": {
   "codemirror_mode": {
    "name": "ipython",
    "version": 3
   },
   "file_extension": ".py",
   "mimetype": "text/x-python",
   "name": "python",
   "nbconvert_exporter": "python",
   "pygments_lexer": "ipython3",
   "version": "3.8.3"
  }
 },
 "nbformat": 4,
 "nbformat_minor": 5
}
