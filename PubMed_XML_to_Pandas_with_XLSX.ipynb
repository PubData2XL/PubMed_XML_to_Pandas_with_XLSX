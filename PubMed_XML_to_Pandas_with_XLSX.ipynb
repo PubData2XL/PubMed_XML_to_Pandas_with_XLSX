{
 "cells": [
  {
   "cell_type": "markdown",
   "id": "4ae86a95",
   "metadata": {},
   "source": [
    "## Dependencies"
   ]
  },
  {
   "cell_type": "code",
   "execution_count": 1,
   "id": "081dd19c",
   "metadata": {},
   "outputs": [],
   "source": [
    "# Install a pip package in the current Jupyter kernel\n",
    "#!python -m pip install --upgrade pip pandas jupyterthemes biopython lxml\n",
    "#!jt -t monokai -fs 12 -cellw 80% -T -N -kl\n",
    "import re\n",
    "import datetime\n",
    "import pandas as pd\n"
   ]
  },
  {
   "cell_type": "code",
   "execution_count": 2,
   "id": "45095d5b",
   "metadata": {},
   "outputs": [],
   "source": [
    "def parse_pub_date(pub_date):\n",
    "    if not pub_date:\n",
    "        pub_date = \"\"\n",
    "    begin = \"^\"\n",
    "    end = \"$\"\n",
    "    YYYY = \"\\d{4}\"\n",
    "    MM_DD =\"\\d{2}\"\n",
    "    MM_ABRV = \"\\D+\"\n",
    "    YYYY_MM = begin + YYYY + \"-{1}\" + MM_DD + end\n",
    "    YYYY_ABRV = begin + YYYY + \"-{1}\" + MM_ABRV + end\n",
    "    YYYY_ABRV_DD = begin + YYYY + \"-{1}\" + MM_ABRV + \"-{1}\" + MM_DD + end\n",
    "    months = {\"[Jj][Aa][Nn].*\": \"01\", \"[Ff][Ee][Bb].*\": \"02\", \"[Mm][Aa][Rr].*\": \"03\",\n",
    "              \"[Aa][Pp][Rr].*\": \"04\", \"[Mm][Aa][Yy].*\": \"05\", \"[Jj][Uu][Nn].*\": \"06\",\n",
    "              \"[Jj][Uu][Ll].*\": \"07\", \"[Aa][Uu][Gg].*\": \"08\", \"[Ss][Ee][Pp].*\": \"09\",\n",
    "              \"[Oo][Cc][Tt].*\": \"10\", \"[Nn][Oo][Vv].*\": \"11\", \"[Dd][Ee][Cc].*\": \"12\",\n",
    "              \"[Ww][Ii][Nn].*\": \"12\", \"[Ss][Pp][Rr].*\": \"03\", \"[Ss][Uu][Mm].*\": \"06\",\n",
    "              \"[Aa][Uu][Tt].*\": \"09\", \"[Ff][Aa][Ll].*\": \"09\"}\n",
    "    MM_DD_YYYY = begin + \"\\d{1,2}\\/{1}\\d{1,2}\\/{1}\\d{4}\" + end\n",
    "    ORDINAL_DATE = begin + \"\\d{5}\" + end\n",
    "    if re.search(begin + YYYY + end, pub_date): #2023\n",
    "        pub_date = pub_date + \"-01-01\"\n",
    "    elif re.search(YYYY_MM, pub_date): #2023-06\n",
    "        pub_date = pub_date + \"-01\"\n",
    "    elif re.search(YYYY_ABRV, pub_date): #2023-Jun or 2023-Jun-23\n",
    "        for month_re, month_number in months.items():\n",
    "            YYYYMM_ABRV = begin + YYYY + \"-{1}\" + month_re + end\n",
    "            if re.search(YYYYMM_ABRV, pub_date):\n",
    "                pub_date = pub_date[:4] + \"-\" + month_number + \"-01\"\n",
    "    elif re.search(YYYY_ABRV_DD, pub_date):\n",
    "        for month_re, month_number in months.items():\n",
    "            YYYYMM_ABRVDD = begin + YYYY + \"-{1}\" + month_re + \"-{1}\" + MM_DD + end\n",
    "            if re.search(YYYYMM_ABRVDD, pub_date):\n",
    "                pub_date = pub_date[:4] + \"-\" + month_number + \"-\" + pub_date[-2:]\n",
    "    elif re.search(MM_DD_YYYY, pub_date): #\n",
    "        pub_date = pub_date.split(\"/\")\n",
    "        pub_date = pub_date[2] + \"-\" + pub_date[0] + \"-\" + pub_date[1]\n",
    "    elif re.search(ORDINAL_DATE, pub_date):\n",
    "        print(\"Ordinal date: \" + pub_date)\n",
    "        offset = datetime.datetime(1900, 1, 1)\n",
    "        pub_date = str((offset + datetime.timedelta(days=int(pub_date))).date())\n",
    "        #pub_date = str(datetime.date.fromordinal(int(pub_date)))\n",
    "        print(\"Ordinal date: \" + pub_date)\n",
    "    \n",
    "    return pub_date"
   ]
  },
  {
   "cell_type": "code",
   "execution_count": 70,
   "id": "02c8df7a",
   "metadata": {},
   "outputs": [
    {
     "name": "stdout",
     "output_type": "stream",
     "text": [
      "Wall time: 22.9 ms\n"
     ]
    },
    {
     "data": {
      "text/html": [
       "<div>\n",
       "<style scoped>\n",
       "    .dataframe tbody tr th:only-of-type {\n",
       "        vertical-align: middle;\n",
       "    }\n",
       "\n",
       "    .dataframe tbody tr th {\n",
       "        vertical-align: top;\n",
       "    }\n",
       "\n",
       "    .dataframe thead th {\n",
       "        text-align: right;\n",
       "    }\n",
       "</style>\n",
       "<table border=\"1\" class=\"dataframe\">\n",
       "  <thead>\n",
       "    <tr style=\"text-align: right;\">\n",
       "      <th></th>\n",
       "      <th>Abstract</th>\n",
       "      <th>OtherAbstract</th>\n",
       "    </tr>\n",
       "  </thead>\n",
       "  <tbody>\n",
       "    <tr>\n",
       "      <th>0</th>\n",
       "      <td>HEADER 1: Some Text for Header 1 \\n HEADER 2: ...</td>\n",
       "      <td>Se ha estudiado el efecto de la cocción en agu...</td>\n",
       "    </tr>\n",
       "    <tr>\n",
       "      <th>1</th>\n",
       "      <td></td>\n",
       "      <td></td>\n",
       "    </tr>\n",
       "    <tr>\n",
       "      <th>2</th>\n",
       "      <td>In 2019, the American Academy of Ophthalmology...</td>\n",
       "      <td></td>\n",
       "    </tr>\n",
       "    <tr>\n",
       "      <th>3</th>\n",
       "      <td></td>\n",
       "      <td></td>\n",
       "    </tr>\n",
       "  </tbody>\n",
       "</table>\n",
       "</div>"
      ],
      "text/plain": [
       "                                            Abstract  \\\n",
       "0  HEADER 1: Some Text for Header 1 \\n HEADER 2: ...   \n",
       "1                                                      \n",
       "2  In 2019, the American Academy of Ophthalmology...   \n",
       "3                                                      \n",
       "\n",
       "                                       OtherAbstract  \n",
       "0  Se ha estudiado el efecto de la cocción en agu...  \n",
       "1                                                     \n",
       "2                                                     \n",
       "3                                                     "
      ]
     },
     "execution_count": 70,
     "metadata": {},
     "output_type": "execute_result"
    }
   ],
   "source": [
    "%%time\n",
    "xml_file =\"pubmed_data.xml\"\n",
    "xslt_file = \"PubMed_XML_to_Pandas_Transformer.xsl\"\n",
    "#dateparse = lambda x: datetime.strptime(x, '%Y-%m-%d') #Perhaps for the future\n",
    "df = pd.read_xml(xml_file, xpath=\"/Citation\", stylesheet=xslt_file, dtype=str)\n",
    "date_columns = [\"DateCompleted\", \"DateRevised\", \"PubDate\", \"ArticleDate_Electronic\"]\n",
    "for column in date_columns:\n",
    "    df[column] = pd.to_datetime(df[column].apply(lambda x: parse_pub_date(x))).dt.strftime('%Y-%m-%d')\n",
    "df = df.fillna(value=\"\")\n",
    "#df['PMID'] = df['PMID'].astype(int)\n",
    "df\n",
    "df[df.filter(regex='Abstract').columns]"
   ]
  },
  {
   "cell_type": "code",
   "execution_count": 38,
   "id": "2cc4406b",
   "metadata": {},
   "outputs": [
    {
     "data": {
      "text/plain": [
       "'HEADER 1: Some Text for Header 1 \\\\n HEADER 2: Some Text for Header 2 \\\\n HEADER 3: Some Text for Header 3'"
      ]
     },
     "execution_count": 38,
     "metadata": {},
     "output_type": "execute_result"
    }
   ],
   "source": [
    "df[\"Abstract\"][0]"
   ]
  },
  {
   "cell_type": "code",
   "execution_count": null,
   "id": "e4990e8f",
   "metadata": {},
   "outputs": [],
   "source": []
  },
  {
   "cell_type": "code",
   "execution_count": null,
   "id": "8dcbb68a",
   "metadata": {},
   "outputs": [],
   "source": []
  }
 ],
 "metadata": {
  "kernelspec": {
   "display_name": "Python 3 (ipykernel)",
   "language": "python",
   "name": "python3"
  },
  "language_info": {
   "codemirror_mode": {
    "name": "ipython",
    "version": 3
   },
   "file_extension": ".py",
   "mimetype": "text/x-python",
   "name": "python",
   "nbconvert_exporter": "python",
   "pygments_lexer": "ipython3",
   "version": "3.8.3"
  }
 },
 "nbformat": 4,
 "nbformat_minor": 5
}
