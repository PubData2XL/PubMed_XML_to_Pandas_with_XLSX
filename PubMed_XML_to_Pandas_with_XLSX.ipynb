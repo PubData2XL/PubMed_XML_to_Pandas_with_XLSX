{
 "cells": [
  {
   "cell_type": "markdown",
   "id": "4ae86a95",
   "metadata": {},
   "source": [
    "## Dependencies"
   ]
  },
  {
   "cell_type": "code",
   "execution_count": 1,
   "id": "081dd19c",
   "metadata": {},
   "outputs": [],
   "source": [
    "# Install a pip package in the current Jupyter kernel\n",
    "#!python -m pip install --upgrade pip pandas jupyterthemes biopython lxml\n",
    "#!jt -t monokai -fs 12 -cellw 80% -T -N -kl\n",
    "import re\n",
    "import datetime\n",
    "import pandas as pd\n",
    "pmids = [\"36058839\", \"34611887\", \"35123919\", \"32951293\", \"34043444\", \"28160076\"]"
   ]
  },
  {
   "cell_type": "code",
   "execution_count": 2,
   "id": "45095d5b",
   "metadata": {},
   "outputs": [
    {
     "name": "stdout",
     "output_type": "stream",
     "text": [
      "CPU times: total: 0 ns\n",
      "Wall time: 0 ns\n"
     ]
    }
   ],
   "source": [
    "%%time\n",
    "def parse_pub_date(pub_date):\n",
    "    if not pub_date:\n",
    "        pub_date = \"\"\n",
    "    begin = \"^\"\n",
    "    end = \"$\"\n",
    "    YYYY = \"\\d{4}\"\n",
    "    MM_DD =\"\\d{2}\"\n",
    "    MM_ABRV = \"\\D+\"\n",
    "    divider = \"[\\s|-]{1}\"\n",
    "    YYYY_MM = begin + YYYY + divider + MM_DD + end\n",
    "    YYYY_ABRV = begin + YYYY + divider + MM_ABRV + end\n",
    "    YYYY_ABRV_DD = begin + YYYY + divider + MM_ABRV + divider + MM_DD + end\n",
    "    months = {\"[Jj][Aa][Nn].*\": \"01\", \"[Ff][Ee][Bb].*\": \"02\", \"[Mm][Aa][Rr].*\": \"03\",\n",
    "              \"[Aa][Pp][Rr].*\": \"04\", \"[Mm][Aa][Yy].*\": \"05\", \"[Jj][Uu][Nn].*\": \"06\",\n",
    "              \"[Jj][Uu][Ll].*\": \"07\", \"[Aa][Uu][Gg].*\": \"08\", \"[Ss][Ee][Pp].*\": \"09\",\n",
    "              \"[Oo][Cc][Tt].*\": \"10\", \"[Nn][Oo][Vv].*\": \"11\", \"[Dd][Ee][Cc].*\": \"12\",\n",
    "              \"[Ww][Ii][Nn].*\": \"12\", \"[Ss][Pp][Rr].*\": \"03\", \"[Ss][Uu][Mm].*\": \"06\",\n",
    "              \"[Aa][Uu][Tt].*\": \"09\", \"[Ff][Aa][Ll].*\": \"09\"}\n",
    "    MM_DD_YYYY = begin + \"\\d{1,2}\\/{1}\\d{1,2}\\/{1}\\d{4}\" + end\n",
    "    ORDINAL_DATE = begin + \"\\d{5}\" + end\n",
    "    if re.search(begin + YYYY + end, pub_date): #2023\n",
    "        pub_date = pub_date + \"-01-01\"\n",
    "    elif re.search(YYYY_MM, pub_date): #2023-06\n",
    "        test = pub_date\n",
    "        pub_date = pub_date + \"-01\"\n",
    "    elif re.search(YYYY_ABRV, pub_date): #2023-Jun or 2023-Jun-23\n",
    "        for month_re, month_number in months.items():\n",
    "            YYYYMM_ABRV = begin + YYYY + divider + month_re + end\n",
    "            if re.search(YYYYMM_ABRV, pub_date):\n",
    "                pub_date = pub_date[:4] + \"-\" + month_number + \"-01\"\n",
    "    elif re.search(YYYY_ABRV_DD, pub_date):\n",
    "        for month_re, month_number in months.items():\n",
    "            YYYYMM_ABRVDD = begin + YYYY + divider + month_re + divider + MM_DD + end\n",
    "            if re.search(YYYYMM_ABRVDD, pub_date):\n",
    "                pub_date = pub_date[:4] + \"-\" + month_number + \"-\" + pub_date[-2:]\n",
    "    elif re.search(MM_DD_YYYY, pub_date): #\n",
    "        pub_date = pub_date.split(\"/\")\n",
    "        pub_date = pub_date[2] + \"-\" + pub_date[0] + \"-\" + pub_date[1]\n",
    "    elif re.search(ORDINAL_DATE, pub_date):\n",
    "        print(\"Ordinal date: \" + pub_date)\n",
    "        offset = datetime.datetime(1900, 1, 1)\n",
    "        pub_date = str((offset + datetime.timedelta(days=int(pub_date))).date())\n",
    "        #pub_date = str(datetime.date.fromordinal(int(pub_date)))\n",
    "        print(\"Ordinal date: \" + pub_date)\n",
    "    \n",
    "    return pub_date\n",
    "\n",
    "def get_journal_source(row):\n",
    "    ISOAbbreviation = row[\"ISOAbbreviation\"]\n",
    "    Original_PubDate = \" \".join(row[\"Original_PubDate\"].split(\"-\"))\n",
    "    Volume = row[\"Volume\"]\n",
    "    Issue = row[\"Issue\"]\n",
    "    Pagination = row[\"Pagination\"]\n",
    "    PubModel = row[\"PubModel\"]\n",
    "    doi = \"\"\n",
    "    pii = \"\"\n",
    "    ELocationID = row[\"ELocationID\"].strip(\"{\").strip(\"}\").split(\"||\")\n",
    "    for ELID in ELocationID:\n",
    "        if \"doi\" in ELID:\n",
    "            doi = ELID\n",
    "        if \"pii\" in ELID:\n",
    "            pii = ELID\n",
    "    DT_PubDate = row[\"PubDate\"]\n",
    "    DT_ArticleDate = row[\"ArticleDate_Electronic\"]\n",
    "#     DT_ArticleDate = pd.to_datetime(parse_pub_date(ArticleDate_Electronic)).dt.strftime('%Y-%m-%d')\n",
    "    #Methods Inf Med. 2012;51(3):189-98. doi: 10.3414/ME11-01-0055. Epub 2012 Apr 5.\n",
    "    source = str(ISOAbbreviation) + \".\" \n",
    "    #See: https://www.nlm.nih.gov/bsd/licensee/journal_source.html\n",
    "    if Original_PubDate and PubModel != \"Electronic-eCollection\":\n",
    "        source = source + \" \" + str(Original_PubDate)\n",
    "    elif Original_PubDate and PubModel == \"Electronic-eCollection\" and DT_ArticleDate:\n",
    "        try: #To remove trailing zero in Unix (Linux, OS X) use -\n",
    "            source = source + \" \" + DT_ArticleDate.strftime('%Y %b %-d')\n",
    "        except ValueError: #To remove trailing zero in Windows use #\n",
    "            source = source + \" \" + DT_ArticleDate.strftime('%Y %b %#d')\n",
    "    if Volume:\n",
    "        source = source + \";\" + str(Volume)\n",
    "    if Issue:\n",
    "        source = source + \"(\" + str(Issue) + \")\"\n",
    "    if Pagination:\n",
    "        source = source + \":\" + str(Pagination) + \".\"\n",
    "    elif pii:\n",
    "        source = source + \":\" + str(pii) + \".\"\n",
    "    if doi:\n",
    "        source = source + \" \" + str(doi) + \".\"\n",
    "    # See:  https://www.nlm.nih.gov/bsd/licensee/elements_descriptions.html#articledate\n",
    "    if DT_ArticleDate and (DT_ArticleDate < DT_PubDate) and PubModel != \"Electronic-eCollection\": #if articledate is older/lower than print day\n",
    "        try: #To remove trailing zero in Unix (Linux, OS X) use -\n",
    "            source = source + \" Epub \" + DT_ArticleDate.strftime('%Y %b %-d') + \".\"\n",
    "        except ValueError: #To remove trailing zero in Windows use #\n",
    "            source = source + \" Epub \" + DT_ArticleDate.strftime('%Y %b %#d') + \".\"\n",
    "    if PubModel == \"Electronic-eCollection\":\n",
    "        source = source + \" eCollection \" + Original_PubDate + \".\"\n",
    "        \n",
    "    return source"
   ]
  },
  {
   "cell_type": "code",
   "execution_count": 3,
   "id": "02c8df7a",
   "metadata": {},
   "outputs": [
    {
     "name": "stdout",
     "output_type": "stream",
     "text": [
      "CPU times: total: 172 ms\n",
      "Wall time: 177 ms\n"
     ]
    },
    {
     "data": {
      "text/plain": [
       "'J Autism Dev Disord. 2021 Jan 2;51(10):3456-3468. doi: 10.1007/s10803-020-04776-x. eCollection 2021.'"
      ]
     },
     "execution_count": 3,
     "metadata": {},
     "output_type": "execute_result"
    }
   ],
   "source": [
    "%%time\n",
    "xml_file =\"pubmed_data.xml\"\n",
    "xslt_file = \"PubMed_XML_to_Pandas_Transformer.xsl\"\n",
    "#dateparse = lambda x: datetime.strptime(x, '%Y-%m-%d') #Perhaps for the future\n",
    "df = pd.read_xml(xml_file, xpath=\"/Citation\", stylesheet=xslt_file, dtype=str)\n",
    "date_columns = df.filter(like='Date').columns.to_list()\n",
    "df[\"Original_PubDate\"] = df[\"PubDate\"].copy()\n",
    "for column in date_columns:\n",
    "    df[column] = pd.to_datetime(df[column].apply(lambda x: parse_pub_date(x)))#.dt.strftime('%Y-%m-%d')\n",
    "df = df.fillna(value=\"\")\n",
    "df[\"Journal_Source\"] = df.apply(lambda x: get_journal_source(x), axis=1)\n",
    "#df['PMID'] = df['PMID'].astype(int)\n",
    "df.to_excel(\"Transformed_PubMed_Data.xlsx\", index=False, header=True)\n",
    "df#[\"Language\"][2]\n",
    "columns_to_keep = [\"PMID\", \"Original_PubDate\", \"PubDate\", \"PubModel\", \"Journal_Source\"]\n",
    "df = df[columns_to_keep]\n",
    "df\n",
    "df[\"Journal_Source\"][0]\n",
    "#Front Genet. 2013 Jan 25;3:330. doi: 10.3389/fgene.2012.00330. eCollection 2012."
   ]
  },
  {
   "cell_type": "code",
   "execution_count": null,
   "id": "cb5ecd4d",
   "metadata": {},
   "outputs": [],
   "source": []
  }
 ],
 "metadata": {
  "kernelspec": {
   "display_name": "Python 3 (ipykernel)",
   "language": "python",
   "name": "python3"
  },
  "language_info": {
   "codemirror_mode": {
    "name": "ipython",
    "version": 3
   },
   "file_extension": ".py",
   "mimetype": "text/x-python",
   "name": "python",
   "nbconvert_exporter": "python",
   "pygments_lexer": "ipython3",
   "version": "3.10.5"
  }
 },
 "nbformat": 4,
 "nbformat_minor": 5
}
