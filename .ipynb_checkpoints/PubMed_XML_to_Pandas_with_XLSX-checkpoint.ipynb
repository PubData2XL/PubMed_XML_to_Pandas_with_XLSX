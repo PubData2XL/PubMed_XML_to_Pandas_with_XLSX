{
 "cells": [
  {
   "cell_type": "markdown",
   "id": "4ae86a95",
   "metadata": {},
   "source": [
    "## Dependencies"
   ]
  },
  {
   "cell_type": "code",
   "execution_count": 5,
   "id": "081dd19c",
   "metadata": {},
   "outputs": [],
   "source": [
    "# Install a pip package in the current Jupyter kernel\n",
    "#!python -m pip install --upgrade pip pandas jupyterthemes biopython lxml\n",
    "#!jt -t monokai -fs 12 -cellw 80% -T -N -kl\n",
    "import re\n",
    "import datetime\n",
    "import pandas as pd\n",
    "pmids = [\"36058839\", \"34611887\", \"35123919\", \"32951293\", \"34043444\", \"28160076\"]"
   ]
  },
  {
   "cell_type": "code",
   "execution_count": 214,
   "id": "45095d5b",
   "metadata": {},
   "outputs": [
    {
     "name": "stdout",
     "output_type": "stream",
     "text": [
      "CPU times: total: 0 ns\n",
      "Wall time: 927 µs\n"
     ]
    }
   ],
   "source": [
    "%%time\n",
    "def parse_pub_date(pub_date):\n",
    "    if not pub_date:\n",
    "        pub_date = \"\"\n",
    "    begin = \"^\"\n",
    "    end = \"$\"\n",
    "    YYYY = \"\\d{4}\"\n",
    "    MM_DD =\"\\d{2}\"\n",
    "    MM_ABRV = \"\\D+\"\n",
    "    divider = \"[\\s|-]{1}\"\n",
    "    YYYY_MM = begin + YYYY + divider + MM_DD + end\n",
    "    YYYY_ABRV = begin + YYYY + divider + MM_ABRV + end\n",
    "    YYYY_ABRV_DD = begin + YYYY + divider + MM_ABRV + divider + MM_DD + end\n",
    "    months = {\"[Jj][Aa][Nn].*\": \"01\", \"[Ff][Ee][Bb].*\": \"02\", \"[Mm][Aa][Rr].*\": \"03\",\n",
    "              \"[Aa][Pp][Rr].*\": \"04\", \"[Mm][Aa][Yy].*\": \"05\", \"[Jj][Uu][Nn].*\": \"06\",\n",
    "              \"[Jj][Uu][Ll].*\": \"07\", \"[Aa][Uu][Gg].*\": \"08\", \"[Ss][Ee][Pp].*\": \"09\",\n",
    "              \"[Oo][Cc][Tt].*\": \"10\", \"[Nn][Oo][Vv].*\": \"11\", \"[Dd][Ee][Cc].*\": \"12\",\n",
    "              \"[Ww][Ii][Nn].*\": \"12\", \"[Ss][Pp][Rr].*\": \"03\", \"[Ss][Uu][Mm].*\": \"06\",\n",
    "              \"[Aa][Uu][Tt].*\": \"09\", \"[Ff][Aa][Ll].*\": \"09\"}\n",
    "    MM_DD_YYYY = begin + \"\\d{1,2}\\/{1}\\d{1,2}\\/{1}\\d{4}\" + end\n",
    "    ORDINAL_DATE = begin + \"\\d{5}\" + end\n",
    "    if re.search(begin + YYYY + end, pub_date): #2023\n",
    "        pub_date = pub_date + \"-01-01\"\n",
    "    elif re.search(YYYY_MM, pub_date): #2023-06\n",
    "        test = pub_date\n",
    "        pub_date = pub_date + \"-01\"\n",
    "    elif re.search(YYYY_ABRV, pub_date): #2023-Jun or 2023-Jun-23\n",
    "        for month_re, month_number in months.items():\n",
    "            YYYYMM_ABRV = begin + YYYY + divider + month_re + end\n",
    "            if re.search(YYYYMM_ABRV, pub_date):\n",
    "                pub_date = pub_date[:4] + \"-\" + month_number + \"-01\"\n",
    "    elif re.search(YYYY_ABRV_DD, pub_date):\n",
    "        for month_re, month_number in months.items():\n",
    "            YYYYMM_ABRVDD = begin + YYYY + divider + month_re + divider + MM_DD + end\n",
    "            if re.search(YYYYMM_ABRVDD, pub_date):\n",
    "                pub_date = pub_date[:4] + \"-\" + month_number + \"-\" + pub_date[-2:]\n",
    "    elif re.search(MM_DD_YYYY, pub_date): #\n",
    "        pub_date = pub_date.split(\"/\")\n",
    "        pub_date = pub_date[2] + \"-\" + pub_date[0] + \"-\" + pub_date[1]\n",
    "    elif re.search(ORDINAL_DATE, pub_date):\n",
    "        print(\"Ordinal date: \" + pub_date)\n",
    "        offset = datetime.datetime(1900, 1, 1)\n",
    "        pub_date = str((offset + datetime.timedelta(days=int(pub_date))).date())\n",
    "        #pub_date = str(datetime.date.fromordinal(int(pub_date)))\n",
    "        print(\"Ordinal date: \" + pub_date)\n",
    "    \n",
    "    return pub_date\n",
    "\n",
    "def get_journal_source(row):\n",
    "    ISOAbbreviation = row[\"ISOAbbreviation\"]\n",
    "    Original_PubDate = \" \".join(row[\"Original_PubDate\"].split(\"-\"))\n",
    "    Volume = row[\"Volume\"]\n",
    "    Issue = row[\"Issue\"]\n",
    "    Pagination = row[\"Pagination\"]\n",
    "    PubModel = row[\"PubModel\"]\n",
    "    doi = \"\"\n",
    "    pii = \"\"\n",
    "    ELocationID = row[\"ELocationID\"].strip(\"{\").strip(\"}\").split(\"||\")\n",
    "    for ELID in ELocationID:\n",
    "        if \"doi\" in ELID:\n",
    "            doi = ELID\n",
    "        if \"pii\" in ELID:\n",
    "            pii = ELID\n",
    "    DT_PubDate = row[\"PubDate\"]\n",
    "    print(type(DT_PubDate))\n",
    "    DT_ArticleDate = row[\"ArticleDate_Electronic\"]\n",
    "#     DT_ArticleDate = pd.to_datetime(parse_pub_date(ArticleDate_Electronic)).dt.strftime('%Y-%m-%d')\n",
    "    #Methods Inf Med. 2012;51(3):189-98. doi: 10.3414/ME11-01-0055. Epub 2012 Apr 5.\n",
    "    source = str(ISOAbbreviation) + \".\" \n",
    "    #See: https://www.nlm.nih.gov/bsd/licensee/journal_source.html\n",
    "    if Original_PubDate:\n",
    "        source = source + \" \" + str(Original_PubDate)\n",
    "    if Volume:\n",
    "        source = source + \";\" + str(Volume)\n",
    "    if Issue:\n",
    "        source = source + \"(\" + str(Issue) + \")\"\n",
    "    if Pagination:\n",
    "        source = source + \":\" + str(Pagination) + \".\"\n",
    "    elif pii:\n",
    "        source = source + \":\" + str(pii) + \".\"\n",
    "    if doi:\n",
    "        source = source + \" \" + str(doi) + \".\"\n",
    "    # See:  https://www.nlm.nih.gov/bsd/licensee/elements_descriptions.html#articledate\n",
    "    if DT_ArticleDate and (DT_ArticleDate < DT_PubDate) and PubModel != \"Electronic-eCollection\": #if articledate is older/lower than print day\n",
    "        try: #To remove trailing zero in Unix (Linux, OS X) use -\n",
    "            source = source + \" Epub \" + DT_ArticleDate.strftime('%Y %b %-d') + \".\"\n",
    "        except ValueError: #To remove trailing zero in Windows use #\n",
    "            source = source + \" Epub \" + DT_ArticleDate.strftime('%Y %b %#d') + \".\"\n",
    "    if PubModel == \"Electronic-eCollection\":\n",
    "        source = source + \" eCollection \" + Original_PubDate + \".\"\n",
    "        \n",
    "    return source"
   ]
  },
  {
   "cell_type": "code",
   "execution_count": 217,
   "id": "02c8df7a",
   "metadata": {},
   "outputs": [
    {
     "name": "stdout",
     "output_type": "stream",
     "text": [
      "<class 'pandas._libs.tslibs.timestamps.Timestamp'>\n"
     ]
    },
    {
     "ename": "AttributeError",
     "evalue": "'NoneType' object has no attribute 'split'",
     "output_type": "error",
     "traceback": [
      "\u001b[1;31m---------------------------------------------------------------------------\u001b[0m",
      "\u001b[1;31mAttributeError\u001b[0m                            Traceback (most recent call last)",
      "File \u001b[1;32m<timed exec>:9\u001b[0m, in \u001b[0;36m<module>\u001b[1;34m\u001b[0m\n",
      "File \u001b[1;32mC:\\coding\\lib\\site-packages\\pandas\\core\\frame.py:9555\u001b[0m, in \u001b[0;36mDataFrame.apply\u001b[1;34m(self, func, axis, raw, result_type, args, **kwargs)\u001b[0m\n\u001b[0;32m   9544\u001b[0m \u001b[38;5;28;01mfrom\u001b[39;00m \u001b[38;5;21;01mpandas\u001b[39;00m\u001b[38;5;21;01m.\u001b[39;00m\u001b[38;5;21;01mcore\u001b[39;00m\u001b[38;5;21;01m.\u001b[39;00m\u001b[38;5;21;01mapply\u001b[39;00m \u001b[38;5;28;01mimport\u001b[39;00m frame_apply\n\u001b[0;32m   9546\u001b[0m op \u001b[38;5;241m=\u001b[39m frame_apply(\n\u001b[0;32m   9547\u001b[0m     \u001b[38;5;28mself\u001b[39m,\n\u001b[0;32m   9548\u001b[0m     func\u001b[38;5;241m=\u001b[39mfunc,\n\u001b[1;32m   (...)\u001b[0m\n\u001b[0;32m   9553\u001b[0m     kwargs\u001b[38;5;241m=\u001b[39mkwargs,\n\u001b[0;32m   9554\u001b[0m )\n\u001b[1;32m-> 9555\u001b[0m \u001b[38;5;28;01mreturn\u001b[39;00m \u001b[43mop\u001b[49m\u001b[38;5;241;43m.\u001b[39;49m\u001b[43mapply\u001b[49m\u001b[43m(\u001b[49m\u001b[43m)\u001b[49m\u001b[38;5;241m.\u001b[39m__finalize__(\u001b[38;5;28mself\u001b[39m, method\u001b[38;5;241m=\u001b[39m\u001b[38;5;124m\"\u001b[39m\u001b[38;5;124mapply\u001b[39m\u001b[38;5;124m\"\u001b[39m)\n",
      "File \u001b[1;32mC:\\coding\\lib\\site-packages\\pandas\\core\\apply.py:746\u001b[0m, in \u001b[0;36mFrameApply.apply\u001b[1;34m(self)\u001b[0m\n\u001b[0;32m    743\u001b[0m \u001b[38;5;28;01melif\u001b[39;00m \u001b[38;5;28mself\u001b[39m\u001b[38;5;241m.\u001b[39mraw:\n\u001b[0;32m    744\u001b[0m     \u001b[38;5;28;01mreturn\u001b[39;00m \u001b[38;5;28mself\u001b[39m\u001b[38;5;241m.\u001b[39mapply_raw()\n\u001b[1;32m--> 746\u001b[0m \u001b[38;5;28;01mreturn\u001b[39;00m \u001b[38;5;28;43mself\u001b[39;49m\u001b[38;5;241;43m.\u001b[39;49m\u001b[43mapply_standard\u001b[49m\u001b[43m(\u001b[49m\u001b[43m)\u001b[49m\n",
      "File \u001b[1;32mC:\\coding\\lib\\site-packages\\pandas\\core\\apply.py:873\u001b[0m, in \u001b[0;36mFrameApply.apply_standard\u001b[1;34m(self)\u001b[0m\n\u001b[0;32m    872\u001b[0m \u001b[38;5;28;01mdef\u001b[39;00m \u001b[38;5;21mapply_standard\u001b[39m(\u001b[38;5;28mself\u001b[39m):\n\u001b[1;32m--> 873\u001b[0m     results, res_index \u001b[38;5;241m=\u001b[39m \u001b[38;5;28;43mself\u001b[39;49m\u001b[38;5;241;43m.\u001b[39;49m\u001b[43mapply_series_generator\u001b[49m\u001b[43m(\u001b[49m\u001b[43m)\u001b[49m\n\u001b[0;32m    875\u001b[0m     \u001b[38;5;66;03m# wrap results\u001b[39;00m\n\u001b[0;32m    876\u001b[0m     \u001b[38;5;28;01mreturn\u001b[39;00m \u001b[38;5;28mself\u001b[39m\u001b[38;5;241m.\u001b[39mwrap_results(results, res_index)\n",
      "File \u001b[1;32mC:\\coding\\lib\\site-packages\\pandas\\core\\apply.py:889\u001b[0m, in \u001b[0;36mFrameApply.apply_series_generator\u001b[1;34m(self)\u001b[0m\n\u001b[0;32m    886\u001b[0m \u001b[38;5;28;01mwith\u001b[39;00m option_context(\u001b[38;5;124m\"\u001b[39m\u001b[38;5;124mmode.chained_assignment\u001b[39m\u001b[38;5;124m\"\u001b[39m, \u001b[38;5;28;01mNone\u001b[39;00m):\n\u001b[0;32m    887\u001b[0m     \u001b[38;5;28;01mfor\u001b[39;00m i, v \u001b[38;5;129;01min\u001b[39;00m \u001b[38;5;28menumerate\u001b[39m(series_gen):\n\u001b[0;32m    888\u001b[0m         \u001b[38;5;66;03m# ignore SettingWithCopy here in case the user mutates\u001b[39;00m\n\u001b[1;32m--> 889\u001b[0m         results[i] \u001b[38;5;241m=\u001b[39m \u001b[38;5;28;43mself\u001b[39;49m\u001b[38;5;241;43m.\u001b[39;49m\u001b[43mf\u001b[49m\u001b[43m(\u001b[49m\u001b[43mv\u001b[49m\u001b[43m)\u001b[49m\n\u001b[0;32m    890\u001b[0m         \u001b[38;5;28;01mif\u001b[39;00m \u001b[38;5;28misinstance\u001b[39m(results[i], ABCSeries):\n\u001b[0;32m    891\u001b[0m             \u001b[38;5;66;03m# If we have a view on v, we need to make a copy because\u001b[39;00m\n\u001b[0;32m    892\u001b[0m             \u001b[38;5;66;03m#  series_generator will swap out the underlying data\u001b[39;00m\n\u001b[0;32m    893\u001b[0m             results[i] \u001b[38;5;241m=\u001b[39m results[i]\u001b[38;5;241m.\u001b[39mcopy(deep\u001b[38;5;241m=\u001b[39m\u001b[38;5;28;01mFalse\u001b[39;00m)\n",
      "File \u001b[1;32m<timed exec>:9\u001b[0m, in \u001b[0;36m<lambda>\u001b[1;34m(x)\u001b[0m\n",
      "File \u001b[1;32m<timed exec>:50\u001b[0m, in \u001b[0;36mget_journal_source\u001b[1;34m(row)\u001b[0m\n",
      "\u001b[1;31mAttributeError\u001b[0m: 'NoneType' object has no attribute 'split'"
     ]
    }
   ],
   "source": [
    "%%time\n",
    "xml_file =\"pubmed_data.xml\"\n",
    "xslt_file = \"PubMed_XML_to_Pandas_Transformer.xsl\"\n",
    "#dateparse = lambda x: datetime.strptime(x, '%Y-%m-%d') #Perhaps for the future\n",
    "df = pd.read_xml(xml_file, xpath=\"/Citation\", stylesheet=xslt_file, dtype=str)\n",
    "date_columns = df.filter(like='Date').columns.to_list()\n",
    "df[\"Original_PubDate\"] = df[\"PubDate\"].copy()\n",
    "for column in date_columns:\n",
    "    df[column] = pd.to_datetime(df[column].apply(lambda x: parse_pub_date(x)))#.dt.strftime('%Y-%m-%d')\n",
    "df = df.fillna(value=\"\")\n",
    "df[\"Journal_Source\"] = df.apply(lambda x: get_journal_source(x), axis=1)\n",
    "#df['PMID'] = df['PMID'].astype(int)\n",
    "df.to_excel(\"Transformed_PubMed_Data.xlsx\", index=False, header=True)\n",
    "df#[\"Language\"][2]\n",
    "columns_to_keep = [\"PMID\", \"Original_PubDate\", \"PubDate\", \"PubModel\", \"Journal_Source\"]\n",
    "df = df[columns_to_keep]\n",
    "df\n",
    "#df[\"Journal_Source\"][0]\n",
    "#Oncologist. 2021 Mar;26(3):e435-e444. doi: 10.1002/onco.13527. Epub 2020 Oct 1."
   ]
  },
  {
   "cell_type": "code",
   "execution_count": 180,
   "id": "6da259f9",
   "metadata": {},
   "outputs": [
    {
     "ename": "SyntaxError",
     "evalue": "invalid syntax (3724410098.py, line 1)",
     "output_type": "error",
     "traceback": [
      "\u001b[1;36m  Input \u001b[1;32mIn [180]\u001b[1;36m\u001b[0m\n\u001b[1;33m    elif header == \"Source\":\u001b[0m\n\u001b[1;37m    ^\u001b[0m\n\u001b[1;31mSyntaxError\u001b[0m\u001b[1;31m:\u001b[0m invalid syntax\n"
     ]
    }
   ],
   "source": [
    "\n",
    "                            elif header == \"Source\":\n",
    "                                citation_H = i\n",
    "                            elif header == \"Location Identifier\": # needs iteration\n",
    "                                doi_H = i\n",
    "                            elif header == \"Abstract\":\n",
    "                                abstract_H = i\n",
    "                            elif header == \"ISSN\":\n",
    "                                issn_H = i\n",
    "                            elif header == \"PMC ID\":\n",
    "                                pmc_H = i\n",
    "                            elif header == \"Journal Title\":\n",
    "                                journal_H = i\n",
    "                            elif header == \"Copyright Information\":\n",
    "                                copyright_H = i\n",
    "                            elif header == \"Title\":\n",
    "                                title_H = i\n",
    "                            elif header == \"Publication Type\":\n",
    "                                pub_type_H = i"
   ]
  },
  {
   "cell_type": "code",
   "execution_count": null,
   "id": "d0ac88b8",
   "metadata": {},
   "outputs": [],
   "source": []
  }
 ],
 "metadata": {
  "kernelspec": {
   "display_name": "Python 3 (ipykernel)",
   "language": "python",
   "name": "python3"
  },
  "language_info": {
   "codemirror_mode": {
    "name": "ipython",
    "version": 3
   },
   "file_extension": ".py",
   "mimetype": "text/x-python",
   "name": "python",
   "nbconvert_exporter": "python",
   "pygments_lexer": "ipython3",
   "version": "3.10.5"
  }
 },
 "nbformat": 4,
 "nbformat_minor": 5
}
